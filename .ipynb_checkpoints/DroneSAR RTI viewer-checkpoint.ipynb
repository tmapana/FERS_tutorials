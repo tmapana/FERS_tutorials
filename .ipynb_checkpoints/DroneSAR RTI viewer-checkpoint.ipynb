{
 "cells": [
  {
   "cell_type": "markdown",
   "id": "48e7ed13",
   "metadata": {},
   "source": [
    "# DroneSAR RTI Viewer"
   ]
  },
  {
   "cell_type": "code",
   "execution_count": 1,
   "id": "74af83bf",
   "metadata": {},
   "outputs": [],
   "source": [
    "%load_ext autoreload\n",
    "%autoreload 2"
   ]
  },
  {
   "cell_type": "code",
   "execution_count": 2,
   "id": "f3f90ff3",
   "metadata": {},
   "outputs": [],
   "source": [
    "import os\n",
    "import numpy as np\n",
    "from qbstyles import mpl_style\n",
    "import matplotlib.pyplot as plt\n",
    "\n",
    "# from python.datasummary import DataSummary"
   ]
  },
  {
   "cell_type": "code",
   "execution_count": 3,
   "id": "2efb4a66",
   "metadata": {},
   "outputs": [],
   "source": [
    "save_figures = False"
   ]
  },
  {
   "cell_type": "code",
   "execution_count": 4,
   "id": "fbd3d814",
   "metadata": {},
   "outputs": [],
   "source": [
    "def hi_res() -> bool:\n",
    "  try:\n",
    "    # Try vector graphic first\n",
    "    from IPython.display import set_matplotlib_formats\n",
    "    set_matplotlib_formats( 'pdf')\n",
    "    is_vector_img = True\n",
    "  except:\n",
    "    is_vector_img = False\n",
    "    # if that fails, at least raise the resolution of the plots. \n",
    "    import matplotlib as mpl\n",
    "    mpl.rcParams['savefig.dpi'] = 200\n",
    "  finally:\n",
    "    return is_vector_img"
   ]
  },
  {
   "cell_type": "code",
   "execution_count": 5,
   "id": "1755f056",
   "metadata": {},
   "outputs": [],
   "source": [
    "def plot_rti(data, clip_min, clip_max, is_vector_img, x, y ):\n",
    "  \"\"\"Plots the Range/Time/Intensity plot for the specified channel\n",
    "  \"\"\"\n",
    "  # get the image from the dataset\n",
    "  im = data\n",
    "  # invert dataset (up/down)\n",
    "  im = np.flipud(im)\n",
    "  # convert to dB and normalise\n",
    "  im = 20*np.log10(np.abs(im))\n",
    "  im -= np.amax(im)\n",
    "\n",
    "  # get the vmin and vmax values\n",
    "  # these correspond to the lowest non inf mean value on the low end\n",
    "  # and the maximum value on the high end\n",
    "  if clip_min == None:\n",
    "    imm = np.mean(im, axis=1); clip_min = np.nanmin(imm[imm != -np.inf]); \n",
    "  if clip_max == None:\n",
    "    clip_max = np.amax(im)\n",
    "  \n",
    "  fig = plt.figure(figsize=(10,6))\n",
    "  im_axes = [min(x), max(x), min(y), max(y)]\n",
    "#   im_axes = [min(x), max(x), 1000, 1500]\n",
    "  image = plt.imshow(\n",
    "    im,\n",
    "    aspect='auto',\n",
    "    vmax=clip_max,\n",
    "    vmin=clip_min,\n",
    "    interpolation='nearest' if is_vector_img else 'none',\n",
    "    cmap=None,\n",
    "    extent=im_axes,\n",
    "    rasterized=False\n",
    "    )\n",
    "  plt.grid(None)\n",
    "  plt.colorbar()\n",
    "  plt.title('Range vs Time Intensity plot')\n",
    "  plt.xlabel('Slow Time [s]')\n",
    "  plt.ylabel('Range [m]')"
   ]
  },
  {
   "cell_type": "code",
   "execution_count": 6,
   "id": "ed5290e9",
   "metadata": {},
   "outputs": [],
   "source": [
    "def clip_db_scale(data):\n",
    "  \"\"\"Get the min and max db scale for plotting\n",
    "  \"\"\"\n",
    "  # default the a2 and b2 channel values to np.nan in case the switch_mode != 3\n",
    "  clip_min = clip_max = np.nan\n",
    "\n",
    "  # get the dB value and normalise\n",
    "  data = 20*np.log10(np.abs(data)); data -= np.amax(data)\n",
    "\n",
    "  # get the mean and then the minimum and maximum of each\n",
    "  data_m = np.mean(data, axis=1); clip_min = np.nanmin(data_m[data_m != -np.inf]); clip_max = np.amax(data)\n",
    "  \n",
    "  return clip_min, clip_max"
   ]
  },
  {
   "cell_type": "code",
   "execution_count": 7,
   "id": "86e46b0a-8e83-42b1-8497-d5ed152f2906",
   "metadata": {},
   "outputs": [],
   "source": [
    "# def range_axis(data_summary, min_range, max_range, trimmed: bool = False):\n",
    "def range_axis(min_range, max_range, trimmed: bool = False):\n",
    "    # set the processor range parameters that werent present in summary.ini\n",
    "#     data_summary.min_range_bin = int(np.floor(min_range/data_summary.range_bin_spacing))\n",
    "    min_range_bin = 0\n",
    "#     data_summary.max_range_bin = int(np.ceil(max_range/data_summary.range_bin_spacing))\n",
    "    max_range_bin = 2048\n",
    "#     data_summary.n_range_bins = data_summary.max_range_bin - data_summary.min_range_bin\n",
    "    n_range_bins = max_range_bin - min_range_bin\n",
    "\n",
    "    # set the range axis\n",
    "    adc_rate = 125e6    #100e6\n",
    "    decimation_factor = 40  #100\n",
    "    sampling_rate = adc_rate / decimation_factor\n",
    "    ns_fft = 4096\n",
    "    chirp_rate = 125000000000\n",
    "    c = 299792458\n",
    "    range_scaling = (c/2) / chirp_rate\n",
    "    \n",
    "    \n",
    "    range_axis = np.linspace(0, sampling_rate, ns_fft, endpoint=False) * range_scaling\n",
    "    if trimmed:      \n",
    "      range_axis = range_axis[min_range_bin: max_range_bin]\n",
    "    return range_axis"
   ]
  },
  {
   "cell_type": "code",
   "execution_count": 8,
   "id": "528b3969",
   "metadata": {},
   "outputs": [],
   "source": [
    "mpl_style(dark=False)\n",
    "is_vector_img = False #hi_res()"
   ]
  },
  {
   "cell_type": "code",
   "execution_count": 9,
   "id": "f444cdca-3c6b-4b03-830f-ca9607d31d3f",
   "metadata": {},
   "outputs": [
    {
     "name": "stdout",
     "output_type": "stream",
     "text": [
      "/c/Users/tpmap/OneDrive/Documents/FERS_tutorials\n"
     ]
    }
   ],
   "source": [
    "rti_file_name   = \"1m_30ms.rng\"\n",
    "root_folder = \"/c/Users/tpmap/OneDrive/Documents/FERS_tutorials/out/sar\"\n",
    "rti_file = os.path.join(root_folder, rti_file_name)\n",
    "\n",
    "print(os.getcwd())\n",
    "# summary_file = \"P:\\\\dev\\\\MiloSAR\\\\Oudtshoorn_21_12\\\\Calibration\\\\miloA\\\\21_12_04_08_47_09\\\\summary.ini\""
   ]
  },
  {
   "cell_type": "code",
   "execution_count": 10,
   "id": "f5d93f59-c11b-451c-8fbf-141fee37c3c2",
   "metadata": {},
   "outputs": [],
   "source": [
    "min_range = 100\n",
    "max_range = 1870\n",
    "\n",
    "n_seconds = 1\n",
    "n_chunks = 1250"
   ]
  },
  {
   "cell_type": "code",
   "execution_count": 11,
   "id": "62fdc6e9",
   "metadata": {},
   "outputs": [],
   "source": [
    "with open(rti_file, 'rb') as fid:\n",
    "  data = np.fromfile(fid, np.complex64)\n",
    "  data = data.reshape(4096, 1250)"
   ]
  },
  {
   "cell_type": "code",
   "execution_count": 12,
   "id": "96be291e-316d-462b-b1e0-111064eff220",
   "metadata": {},
   "outputs": [
    {
     "name": "stdout",
     "output_type": "stream",
     "text": [
      "Clip Min:  -45.52265196238074\n",
      "Clip Max:  0.0\n",
      "[0.000e+00 8.000e-04 1.600e-03 ... 9.976e-01 9.984e-01 9.992e-01]\n",
      "[0.00000000e+00 9.14893976e-01 1.82978795e+00 ... 1.87095818e+03\n",
      " 1.87187307e+03 1.87278797e+03]\n"
     ]
    },
    {
     "name": "stderr",
     "output_type": "stream",
     "text": [
      "/tmp/ipykernel_1363/62665581.py:8: RuntimeWarning: divide by zero encountered in log10\n",
      "  data = 20*np.log10(np.abs(data)); data -= np.amax(data)\n"
     ]
    }
   ],
   "source": [
    "cmin, cmax = clip_db_scale(data)\n",
    "cmin = -45.52265196238074\n",
    "print(\"Clip Min: \", cmin)\n",
    "print(\"Clip Max: \", cmax)\n",
    "\n",
    "# data_summary = DataSummary(summary_file)\n",
    "     \n",
    "x = np.linspace(0, n_seconds, n_chunks, endpoint=False)\n",
    "print(x)\n",
    "y = range_axis(min_range, max_range, trimmed=True)  \n",
    "print(y)"
   ]
  },
  {
   "cell_type": "code",
   "execution_count": 13,
   "id": "0e6a2f49-12d3-4dfb-bc22-3e5f0b5955c3",
   "metadata": {},
   "outputs": [
    {
     "name": "stderr",
     "output_type": "stream",
     "text": [
      "/tmp/ipykernel_1363/1364351043.py:9: RuntimeWarning: divide by zero encountered in log10\n",
      "  im = 20*np.log10(np.abs(im))\n"
     ]
    },
    {
     "data": {
      "image/png": "[encoded data removed]",
      "text/plain": [
       "<Figure size 1000x600 with 2 Axes>"
      ]
     },
     "metadata": {},
     "output_type": "display_data"
    }
   ],
   "source": [
    "plot_rti(data=data, clip_min=cmin, clip_max=cmax, is_vector_img=is_vector_img, x=x, y=y)"
   ]
  },
  {
   "cell_type": "code",
   "execution_count": 14,
   "id": "a136b2e1",
   "metadata": {},
   "outputs": [],
   "source": [
    "# SAR image formation"
   ]
  },
  {
   "cell_type": "code",
   "execution_count": null,
   "id": "f4ce1175-37ba-4352-8fb7-66e727795df3",
   "metadata": {},
   "outputs": [],
   "source": []
  }
 ],
 "metadata": {
  "hide_input": false,
  "kernelspec": {
   "display_name": "Python 3 (ipykernel)",
   "language": "python",
   "name": "python3"
  },
  "language_info": {
   "codemirror_mode": {
    "name": "ipython",
    "version": 3
   },
   "file_extension": ".py",
   "mimetype": "text/x-python",
   "name": "python",
   "nbconvert_exporter": "python",
   "pygments_lexer": "ipython3",
   "version": "3.10.6"
  },
  "toc": {
   "base_numbering": 1,
   "nav_menu": {},
   "number_sections": true,
   "sideBar": true,
   "skip_h1_title": false,
   "title_cell": "Table of Contents",
   "title_sidebar": "Contents",
   "toc_cell": false,
   "toc_position": {},
   "toc_section_display": true,
   "toc_window_display": false
  },
  "varInspector": {
   "cols": {
    "lenName": 16,
    "lenType": 16,
    "lenVar": 40
   },
   "kernels_config": {
    "python": {
     "delete_cmd_postfix": "",
     "delete_cmd_prefix": "del ",
     "library": "var_list.py",
     "varRefreshCmd": "print(var_dic_list())"
    },
    "r": {
     "delete_cmd_postfix": ") ",
     "delete_cmd_prefix": "rm(",
     "library": "var_list.r",
     "varRefreshCmd": "cat(var_dic_list()) "
    }
   },
   "types_to_exclude": [
    "module",
    "function",
    "builtin_function_or_method",
    "instance",
    "_Feature"
   ],
   "window_display": false
  },
  "vscode": {
   "interpreter": {
    "hash": "369f2c481f4da34e4445cda3fffd2e751bd1c4d706f27375911949ba6bb62e1c"
   }
  }
 },
 "nbformat": 4,
 "nbformat_minor": 5
}
